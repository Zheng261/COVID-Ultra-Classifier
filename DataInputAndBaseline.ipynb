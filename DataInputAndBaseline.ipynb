{
 "cells": [
  {
   "cell_type": "code",
   "execution_count": 51,
   "metadata": {
    "scrolled": true
   },
   "outputs": [],
   "source": [
    "### NOTE: \n",
    "### Before running this: \n",
    "### 1) run git clone https://github.com/jannisborn/covid19_pocus_ultrasound.git in main folder\n",
    "### 2) run python /scripts python3 scripts/cross_val_splitter.py --splits 5 to get training/validation split. \n",
    "\n",
    "### Because of the relatively small size of the dataset, the authors recommend cross-validation. We can either\n",
    "### go with this or set up our own train/val split. Right now I just use the first fold and do 80/20 train/val\n",
    "### for simplicity.\n",
    "\n",
    "\n",
    "### This notebook inputs data, sets up training process, and uses a simple 2-layer CNN as a jank baseline\n",
    "### I currently just do 3-class prediction because it turns out bacterial pheumonia is like\n",
    "### surprisingly different from viral pheumonia \n",
    "### but changing baseline to 2-class and retraining is super easy \n",
    "\n",
    "### Notes about the project:\n",
    "\n",
    "### https://docs.google.com/spreadsheets/d/1t-tLMjMod6W-nAjkuxmO0CLsiyalFIOp92k_XD_yeo8/edit#gid=1181682638\n",
    "### ^^^ all the information about where the ultrasound videos came from, alongside notes taken by \n",
    "### MDs about each dataset. Most of the data is available here and will be used in our project ^^\n",
    "\n",
    "### All images were taken using convex ultrasound probes -- which is great since they offer the best quality\n",
    "### for lung ultrasound (LUS) https://www.ncbi.nlm.nih.gov/pmc/articles/PMC4098927/. \n",
    "### Generally more affected by lack of specificity than lack of sensitivity. Raw images all in \n",
    "### data/pocus_images/Convex. It seems like they take 5-6 images from each video -- and\n",
    "### tbh images don't change that much during ultrasound so effectively\n",
    "### a lot of the images are duplicates, which I think should be fine \n",
    "\n",
    "### Other possible sources of images: 1) COVID-19 ultrasound_gallery from Butterfly\n",
    "### which we can download here: https://butterflynetwork.com/covid19/covid-19-ultrasound-gallery.\n",
    "### original repo used this one\n",
    "\n",
    "### 2) Mew ultrasound data (like, 5/16 new) available from The ICLUS project here https://www.disi.unitn.it/iclus\n",
    "### which has 60 more patients' of data, if we want to be reaaaally state of the art. \n",
    "### I requested an account for access in case we need more novelty lol. Surprisingly they\n",
    "### approved it within like 3 hours, no questions asked -- go italy\n",
    "\n",
    "import os\n",
    "import numpy as np\n",
    "import cv2\n",
    "from sklearn.metrics import accuracy_score\n",
    "from sklearn.metrics import classification_report, confusion_matrix\n",
    "import matplotlib.pyplot as plt\n",
    "from scipy import stats\n",
    "import pickle\n",
    "import pandas as pd\n",
    "import seaborn as sn\n",
    "\n",
    "from sklearn.metrics import accuracy_score, balanced_accuracy_score, precision_score, recall_score\n",
    "\n",
    "DATA_DIR = 'covid19_pocus_ultrasound/data/cross_validation'\n",
    "MODEL_DIR = 'covid19_pocus_ultrasound/models'\n",
    "\n",
    "### Note: This is what the authors resized images to, we can play with this (or change it)\n",
    "### all depends on what resolution our pretrained model uses \n",
    "\n",
    "IMG_WIDTH = 224\n",
    "IMG_HEIGHT = 224\n",
    "\n",
    "\n",
    "### This is which \"fold\" of the cross validation. Rn I just set this as the first one so we do normal\n",
    "### 80/20 train/val split, but we can iterate over this for robust n-fold validation\n",
    "FOLD = 0"
   ]
  },
  {
   "cell_type": "code",
   "execution_count": 52,
   "metadata": {},
   "outputs": [],
   "source": [
    "### Data for getting images from https://github.com/jrosebr1/imutils/blob/master/imutils/paths.py\n",
    "image_types = (\".jpg\", \".jpeg\", \".png\", \".bmp\", \".tif\", \".tiff\")\n",
    "\n",
    "def list_images(basePath, contains=None):\n",
    "    # return the set of files that are valid\n",
    "    return list_files(basePath, validExts=image_types, contains=contains)\n",
    "\n",
    "\n",
    "def list_files(basePath, validExts=None, contains=None):\n",
    "    # loop over the directory structure\n",
    "    for (rootDir, dirNames, filenames) in os.walk(basePath):\n",
    "        # loop over the filenames in the current directory\n",
    "        for filename in filenames:\n",
    "            # if the contains string is not none and the filename does not contain\n",
    "            # the supplied string, then ignore the file\n",
    "            if contains is not None and filename.find(contains) == -1:\n",
    "                continue\n",
    "\n",
    "            # determine the file extension of the current file\n",
    "            ext = filename[filename.rfind(\".\"):].lower()\n",
    "\n",
    "            # check to see if the file is an image and should be processed\n",
    "            if validExts is None or ext.endswith(validExts):\n",
    "                # construct the path to the image and yield it\n",
    "                imagePath = os.path.join(rootDir, filename)\n",
    "                yield imagePath"
   ]
  },
  {
   "cell_type": "code",
   "execution_count": 53,
   "metadata": {},
   "outputs": [
    {
     "name": "stdout",
     "output_type": "stream",
     "text": [
      "Loading images...\n",
      "['covid19_pocus_ultrasound/data/cross_validation/split0/covid/Cov-Atlas+(44).gif_frame0.jpg', 'covid19_pocus_ultrasound/data/cross_validation/split0/covid/Cov-Atlas+(44).gif_frame12.jpg', 'covid19_pocus_ultrasound/data/cross_validation/split0/covid/Cov-Atlas+(44).gif_frame15.jpg', 'covid19_pocus_ultrasound/data/cross_validation/split0/covid/Cov-Atlas+(44).gif_frame18.jpg', 'covid19_pocus_ultrasound/data/cross_validation/split0/covid/Cov-Atlas+(44).gif_frame21.jpg']\n"
     ]
    }
   ],
   "source": [
    "# grab the list of images in our dataset directory, then initialize\n",
    "# the list of data (i.e., images) and class images\n",
    "print('Loading images...')\n",
    "imagePaths = list(list_images(DATA_DIR))\n",
    "\n",
    "train_labels, test_labels = [], []\n",
    "train_data, test_data = [], []\n",
    "\n",
    "print(imagePaths[0:5])"
   ]
  },
  {
   "cell_type": "code",
   "execution_count": 54,
   "metadata": {},
   "outputs": [
    {
     "name": "stdout",
     "output_type": "stream",
     "text": [
      "\n",
      "Number of training samples: 701 \n",
      "Number of validation samples: 210\n"
     ]
    }
   ],
   "source": [
    "\n",
    "# loop over folds\n",
    "for imagePath in imagePaths:\n",
    "\n",
    "    path_parts = imagePath.split(os.path.sep)\n",
    "    \n",
    "    # extract the split\n",
    "    train_test = path_parts[-3][-1]\n",
    "    \n",
    "    # extract the class label from the filename\n",
    "    label = path_parts[-2]\n",
    "    \n",
    "    # load the image, swap color channels, and resize it to be a fixed\n",
    "    # 224x224 pixels while ignoring aspect ratio\n",
    "    image = cv2.imread(imagePath)\n",
    "    image = cv2.cvtColor(image, cv2.COLOR_BGR2RGB)\n",
    "    image = cv2.resize(image, (IMG_WIDTH, IMG_HEIGHT))\n",
    "\n",
    "    # update the data and labels lists, respectively\n",
    "    if train_test == str(FOLD):\n",
    "        test_labels.append(label)\n",
    "        test_data.append(image)\n",
    "    else:\n",
    "        train_labels.append(label)\n",
    "        train_data.append(image)\n",
    "\n",
    "# Prepare data for model\n",
    "print(\n",
    "    f'\\nNumber of training samples: {len(train_labels)} \\n'\n",
    "    f'Number of validation samples: {len(test_labels)}'\n",
    ")\n"
   ]
  },
  {
   "cell_type": "code",
   "execution_count": 55,
   "metadata": {},
   "outputs": [
    {
     "name": "stdout",
     "output_type": "stream",
     "text": [
      "(224, 224, 3)\n"
     ]
    }
   ],
   "source": [
    "### Tbh... why are there 3 channels lol isn't ultrasound all gray anyway\n",
    "print(train_data[0].shape)"
   ]
  },
  {
   "cell_type": "code",
   "execution_count": 94,
   "metadata": {
    "scrolled": true
   },
   "outputs": [
    {
     "name": "stdout",
     "output_type": "stream",
     "text": [
      "dict_keys(['covid', 'pneumonia', 'regular'])\n",
      "dict_values([287, 219, 195])\n"
     ]
    }
   ],
   "source": [
    "from collections import Counter\n",
    "\n",
    "### ok so these are all strings.. great\n",
    "print(Counter(train_labels).keys())\n",
    "print(Counter(train_labels).values())"
   ]
  },
  {
   "cell_type": "code",
   "execution_count": 95,
   "metadata": {},
   "outputs": [],
   "source": [
    "### We define a mapping of labels from strings to ints\n",
    "\n",
    "from sklearn import preprocessing\n",
    "labEncoder = preprocessing.LabelEncoder()\n",
    "\n",
    "labEncoder.fit(np.unique(train_labels))\n",
    "\n",
    "train_num_labels = labEncoder.transform(train_labels)\n",
    "test_num_labels = labEncoder.transform(test_labels)"
   ]
  },
  {
   "cell_type": "code",
   "execution_count": 119,
   "metadata": {},
   "outputs": [],
   "source": [
    "### BASELINE\n",
    "\n",
    "### Simple 2-layer convnet\n",
    "### Modified from: https://www.analyticsvidhya.com/blog/2019/10/building-image-classification-models-cnn-pytorch/\n",
    "\n",
    "import torch\n",
    "from torch.autograd import Variable\n",
    "from torch.nn import Linear, ReLU, CrossEntropyLoss, Sequential, Conv2d, MaxPool2d, Module, Softmax, BatchNorm2d, Dropout, Sigmoid\n",
    "from torch.optim import Adam, SGD\n",
    "\n",
    "\n",
    "class BaselineConvNet(Module):   \n",
    "    def __init__(self):\n",
    "        super(BaselineConvNet, self).__init__()\n",
    "\n",
    "        self.cnn_layers = Sequential(\n",
    "            # Defining a 2D convolution layer\n",
    "            Conv2d(3, 4, kernel_size=3, stride=1, padding=1),\n",
    "            BatchNorm2d(4),\n",
    "            ReLU(inplace=True),\n",
    "            MaxPool2d(kernel_size=2, stride=2),\n",
    "            # Defining another 2D convolution layer\n",
    "            Conv2d(4, 2, kernel_size=3, stride=1, padding=1),\n",
    "            BatchNorm2d(2),\n",
    "            ReLU(inplace=True),\n",
    "            MaxPool2d(kernel_size=2, stride=2),\n",
    "        )\n",
    "        ### Linear layers\n",
    "        self.linear_layers = Sequential(\n",
    "            Linear(6272, 100),\n",
    "            ReLU(inplace=True),\n",
    "            ### We have 3 classes but authors recommend adding a 4th class for \"unrelated\"\n",
    "            ### where they make sure if you input like a cat the classifier doesn't say \"healthy lung\" or whatever\n",
    "            ### ... maybe something to talk about in future work lol\n",
    "            Linear(100, 3),\n",
    "            ### No need to add sigmoid because pytorch crossentropyloss apparently includes softmax already\n",
    "            #Sigmoid()\n",
    "        )\n",
    "\n",
    "    # Defining the forward pass    \n",
    "    def forward(self, x):\n",
    "        x = self.cnn_layers(x)\n",
    "        x = x.view(x.size(0), -1)\n",
    "        x = self.linear_layers(x)\n",
    "        return x"
   ]
  },
  {
   "cell_type": "code",
   "execution_count": 120,
   "metadata": {
    "scrolled": true
   },
   "outputs": [
    {
     "name": "stdout",
     "output_type": "stream",
     "text": [
      "BaselineConvNet(\n",
      "  (cnn_layers): Sequential(\n",
      "    (0): Conv2d(3, 4, kernel_size=(3, 3), stride=(1, 1), padding=(1, 1))\n",
      "    (1): BatchNorm2d(4, eps=1e-05, momentum=0.1, affine=True, track_running_stats=True)\n",
      "    (2): ReLU(inplace=True)\n",
      "    (3): MaxPool2d(kernel_size=2, stride=2, padding=0, dilation=1, ceil_mode=False)\n",
      "    (4): Conv2d(4, 2, kernel_size=(3, 3), stride=(1, 1), padding=(1, 1))\n",
      "    (5): BatchNorm2d(2, eps=1e-05, momentum=0.1, affine=True, track_running_stats=True)\n",
      "    (6): ReLU(inplace=True)\n",
      "    (7): MaxPool2d(kernel_size=2, stride=2, padding=0, dilation=1, ceil_mode=False)\n",
      "  )\n",
      "  (linear_layers): Sequential(\n",
      "    (0): Linear(in_features=6272, out_features=100, bias=True)\n",
      "    (1): ReLU(inplace=True)\n",
      "    (2): Linear(in_features=100, out_features=3, bias=True)\n",
      "  )\n",
      ")\n"
     ]
    }
   ],
   "source": [
    "# defining the model\n",
    "model = BaselineConvNet()\n",
    "\n",
    "# defining the optimizer -- I add some random number for regularization because it makes me feel like I paid\n",
    "# attention in 229\n",
    "optimizer = Adam(model.parameters(), lr=1e-3, weight_decay=1e-3)\n",
    "\n",
    "# defining the loss function\n",
    "criterion = CrossEntropyLoss()\n",
    "    \n",
    "print(model)"
   ]
  },
  {
   "cell_type": "code",
   "execution_count": 110,
   "metadata": {},
   "outputs": [],
   "source": [
    "### Training with early stopping. Stochastic gradient descent with forced class balance\n",
    "\n",
    "def train(epoch, patience, last_loss_val):\n",
    "    model.train()\n",
    "    tr_loss = 0\n",
    "    \n",
    "    # clearing the gradients of the model parameters\n",
    "    optimizer.zero_grad()\n",
    "\n",
    "    ### gets 150 images, 50 from each class (forced balance for training to work)\n",
    "    indsOne = np.random.choice(np.where(y_train == 0)[0],50,replace=False)\n",
    "    indsTwo = np.random.choice(np.where(y_train == 1)[0],50,replace=False)\n",
    "    indsThree = np.random.choice(np.where(y_train == 2)[0],50,replace=False)\n",
    "    inds = np.concatenate((indsOne, indsTwo, indsThree))\n",
    "    \n",
    "    # prediction for training and validation set\n",
    "    output_train = model(x_train[inds])\n",
    "    output_val = model(x_val)\n",
    "\n",
    "    # computing the training and validation loss\n",
    "    loss_train = criterion(output_train, y_train[inds])\n",
    "    loss_val = criterion(output_val, y_val)\n",
    "    \n",
    "    train_losses.append(loss_train)\n",
    "    val_losses.append(loss_val)\n",
    "    \n",
    "    # computing the updated weights of all the model parameters\n",
    "    loss_train.backward()\n",
    "    optimizer.step()\n",
    "    tr_loss = loss_train.item()\n",
    "    \n",
    "    ### we did not improve, mark it\n",
    "    if loss_val.item() > last_loss_val:\n",
    "        patience += 1\n",
    "    else: \n",
    "        patience = 0\n",
    "    \n",
    "    # printing the train/validation loss\n",
    "    print('Epoch : ',epoch+1, '\\t', 'train loss :', loss_train.item(), '\\t', 'val loss :', loss_val.item(), '\\t', 'patience :', patience)\n",
    "    \n",
    "    ### make sure that we are updating our best val loss so far\n",
    "    if loss_val > last_loss_val:\n",
    "        return patience, last_loss_val\n",
    "    else: \n",
    "        return patience, loss_val.item()"
   ]
  },
  {
   "cell_type": "code",
   "execution_count": 111,
   "metadata": {},
   "outputs": [],
   "source": [
    "# getting the training set into a form that pytorch likes\n",
    "x_train = torch.tensor(train_data)\n",
    "y_train = torch.tensor(train_num_labels)\n",
    "    \n",
    "# getting the validation set into a form that pytorch likes\n",
    "x_val = torch.tensor(test_data)\n",
    "y_val = torch.tensor(test_num_labels)\n"
   ]
  },
  {
   "cell_type": "code",
   "execution_count": null,
   "metadata": {},
   "outputs": [],
   "source": []
  },
  {
   "cell_type": "code",
   "execution_count": 112,
   "metadata": {
    "scrolled": true
   },
   "outputs": [
    {
     "name": "stdout",
     "output_type": "stream",
     "text": [
      "torch.Size([701, 3, 224, 224])\n",
      "torch.Size([210, 3, 224, 224])\n"
     ]
    }
   ],
   "source": [
    "# pytorch demands that color channels go right after batch size\n",
    "x_train = x_train.permute(0,3,1,2)\n",
    "x_val = x_val.permute(0,3,1,2)\n",
    "\n",
    "## should be (n,3,IMG_SIZE,IMG_SIZE)\n",
    "print(x_train.shape)\n",
    "print(x_val.shape)"
   ]
  },
  {
   "cell_type": "code",
   "execution_count": 113,
   "metadata": {},
   "outputs": [],
   "source": [
    "x_train = x_train.float()\n",
    "x_val = x_val.float()"
   ]
  },
  {
   "cell_type": "code",
   "execution_count": 121,
   "metadata": {},
   "outputs": [
    {
     "name": "stdout",
     "output_type": "stream",
     "text": [
      "Epoch :  1 \t train loss : 1.0906435251235962 \t val loss : 1.0926320552825928 \t patience : 0\n",
      "Epoch :  2 \t train loss : 1.4603352546691895 \t val loss : 1.297960877418518 \t patience : 1\n",
      "Epoch :  3 \t train loss : 1.1230754852294922 \t val loss : 1.0933135747909546 \t patience : 2\n",
      "Epoch :  4 \t train loss : 0.910041093826294 \t val loss : 1.397731065750122 \t patience : 3\n",
      "Epoch :  5 \t train loss : 0.7218816876411438 \t val loss : 1.1737289428710938 \t patience : 4\n",
      "Epoch :  6 \t train loss : 0.5804188251495361 \t val loss : 0.7424545884132385 \t patience : 0\n",
      "Epoch :  7 \t train loss : 0.6057637333869934 \t val loss : 0.8268735408782959 \t patience : 1\n",
      "Epoch :  8 \t train loss : 0.593451201915741 \t val loss : 0.8422118425369263 \t patience : 2\n",
      "Epoch :  9 \t train loss : 0.4753052294254303 \t val loss : 0.7277544736862183 \t patience : 0\n",
      "Epoch :  10 \t train loss : 0.4623847007751465 \t val loss : 0.6517413258552551 \t patience : 0\n",
      "Epoch :  11 \t train loss : 0.4830838441848755 \t val loss : 0.6251416802406311 \t patience : 0\n",
      "Epoch :  12 \t train loss : 0.4303417503833771 \t val loss : 0.5879271626472473 \t patience : 0\n",
      "Epoch :  13 \t train loss : 0.39744681119918823 \t val loss : 0.5551700592041016 \t patience : 0\n",
      "Epoch :  14 \t train loss : 0.3678598403930664 \t val loss : 0.5130299925804138 \t patience : 0\n",
      "Epoch :  15 \t train loss : 0.403811514377594 \t val loss : 0.4793795049190521 \t patience : 0\n",
      "Epoch :  16 \t train loss : 0.25750377774238586 \t val loss : 0.45398396253585815 \t patience : 0\n",
      "Epoch :  17 \t train loss : 0.2374134361743927 \t val loss : 0.4357509911060333 \t patience : 0\n",
      "Epoch :  18 \t train loss : 0.23499222099781036 \t val loss : 0.431984007358551 \t patience : 0\n",
      "Epoch :  19 \t train loss : 0.243964284658432 \t val loss : 0.4275490939617157 \t patience : 0\n",
      "Epoch :  20 \t train loss : 0.18596631288528442 \t val loss : 0.42754065990448 \t patience : 0\n",
      "Epoch :  21 \t train loss : 0.19508357346057892 \t val loss : 0.4406066834926605 \t patience : 1\n",
      "Epoch :  22 \t train loss : 0.1675007939338684 \t val loss : 0.46519482135772705 \t patience : 2\n",
      "Epoch :  23 \t train loss : 0.14608772099018097 \t val loss : 0.4943915009498596 \t patience : 3\n",
      "Epoch :  24 \t train loss : 0.19399908185005188 \t val loss : 0.5083139538764954 \t patience : 4\n",
      "Epoch :  25 \t train loss : 0.17638598382472992 \t val loss : 0.5176106691360474 \t patience : 5\n",
      "Epoch :  26 \t train loss : 0.15630605816841125 \t val loss : 0.5153855085372925 \t patience : 6\n",
      "Epoch :  27 \t train loss : 0.1045909970998764 \t val loss : 0.49873292446136475 \t patience : 7\n",
      "Epoch :  28 \t train loss : 0.12133178859949112 \t val loss : 0.4760635793209076 \t patience : 8\n",
      "Epoch :  29 \t train loss : 0.1035371795296669 \t val loss : 0.4641707241535187 \t patience : 9\n",
      "Epoch :  30 \t train loss : 0.10189764201641083 \t val loss : 0.4691283404827118 \t patience : 10\n"
     ]
    }
   ],
   "source": [
    "# defining the number of epochs (say, 100)\n",
    "# takes like 15 mins to train lol\n",
    "\n",
    "n_epochs = 100\n",
    "# empty list to store training losses\n",
    "train_losses = []\n",
    "# empty list to store validation losses\n",
    "val_losses = []\n",
    "\n",
    "last_loss_val = 1e12\n",
    "patience = 0\n",
    "\n",
    "# training the model\n",
    "for epoch in range(n_epochs):\n",
    "    patience, last_loss_val = train(epoch, patience, last_loss_val)\n",
    "    # if validation doesn't improve within 5 episodes, we quit\n",
    "    if (patience == 10):\n",
    "        break"
   ]
  },
  {
   "cell_type": "code",
   "execution_count": 122,
   "metadata": {},
   "outputs": [
    {
     "data": {
      "text/plain": [
       "0.7952380952380952"
      ]
     },
     "execution_count": 122,
     "metadata": {},
     "output_type": "execute_result"
    }
   ],
   "source": [
    "from sklearn.metrics import accuracy_score\n",
    "\n",
    "### no grad because we're just predicting\n",
    "with torch.no_grad():\n",
    "    output = model(x_val)\n",
    "    \n",
    "### gets the highest predicted class value (out of 2) for each image\n",
    "softmax = torch.exp(output)\n",
    "prob = list(softmax.numpy())\n",
    "predictions = np.argmax(prob, axis=1)\n",
    "\n",
    "### accuracy on validation set (80%, 3 classes -- this is... pretty good.)\n",
    "accuracy_score(y_val, predictions)"
   ]
  },
  {
   "cell_type": "code",
   "execution_count": 123,
   "metadata": {
    "scrolled": false
   },
   "outputs": [
    {
     "data": {
      "text/plain": [
       "array([[104,   4,   4],\n",
       "       [  0,  58,   0],\n",
       "       [ 35,   0,   5]])"
      ]
     },
     "execution_count": 123,
     "metadata": {},
     "output_type": "execute_result"
    }
   ],
   "source": [
    "from sklearn.metrics import confusion_matrix\n",
    "\n",
    "confusion_matrix(y_val, predictions)"
   ]
  },
  {
   "cell_type": "code",
   "execution_count": 124,
   "metadata": {},
   "outputs": [
    {
     "data": {
      "image/png": "[encoded data removed]",
      "text/plain": [
       "<Figure size 432x288 with 1 Axes>"
      ]
     },
     "metadata": {
      "needs_background": "light"
     },
     "output_type": "display_data"
    }
   ],
   "source": [
    "plt.plot(train_losses, label='Training loss')\n",
    "plt.plot(val_losses, label='Validation loss')\n",
    "plt.legend()\n",
    "plt.title(\"Baseline model results: not bad lol\")\n",
    "plt.show()"
   ]
  },
  {
   "cell_type": "code",
   "execution_count": 125,
   "metadata": {},
   "outputs": [
    {
     "data": {
      "text/plain": [
       "array(['covid', 'pneumonia', 'regular'], dtype='<U9')"
      ]
     },
     "execution_count": 125,
     "metadata": {},
     "output_type": "execute_result"
    }
   ],
   "source": [
    "labEncoder.inverse_transform([0, 1, 2])\n",
    "### So it can differentiate between covid and phenomia but not covid and regular... lol it thinks\n",
    "### all covid is regular this is not good"
   ]
  },
  {
   "cell_type": "code",
   "execution_count": 109,
   "metadata": {},
   "outputs": [
    {
     "name": "stdout",
     "output_type": "stream",
     "text": [
      "[  0   1   2   3   4   5   6   7   8   9  10  11  12  13  14  15  16  17\n",
      "  18  19  20  21  22  23  24  25  26  27  28  29  30  31  32  33  34  35\n",
      "  36  37  38  39  40  41  42  43  44  45  46  47  48  49  50  51  52  53\n",
      "  54  55  56  57  58  59 161 162 163 164 165 166 167 168 169 170 171 172\n",
      " 173 174 175 176 177 178 179 180 181 182 183 184 185 186 187 188 189 190\n",
      " 191 192 193 194 195 196 197 198 199 200 201 202 203 204 205 206 207 208\n",
      " 209 210 211 212 213 214 215 216 217 218 219 220 341 342 343 344 345 346\n",
      " 347 348 349 350 351 352 353 354 355 356 357 358 359 360 361 362 363 364\n",
      " 365 366 367 368 369 370 371 372 373 374 375 376 377 378 379 380 381 382\n",
      " 383 384 385 386 387 388 389 390 391 392 393 394 395 396 397 398 399 400\n",
      " 401 402 403 404 405 406 407 408 409 410 411 412 413 414 415 416 417 418\n",
      " 419 420 421 422 423 424 425 426 427 428 429 430 431 432 433 434 435 436\n",
      " 437 438 439 440 441 526 527 528 529 530 531 532 533 534 535 536 537 538\n",
      " 539 540 541 542 543 544 545 546 547 548 549 550 551 552 553 554 555 556\n",
      " 557 558 559 560 561 562 563 564 565 566 567 568 569 570 571 572 573 574\n",
      " 575 576 577 578 579 580 581 582 583 584 585 586 587 588 589 590 591]\n",
      "[ 60  61  62  63  64  65  66  67  68  69  70  71  72  73  74  75  76  77\n",
      "  78  79  80  81  82  83  84  85  86  87  88  89  90  91  92  93  94  95\n",
      "  96  97  98  99 100 101 102 103 104 105 106 107 108 109 110 111 112 113\n",
      " 114 115 116 117 118 119 221 222 223 224 225 226 227 228 229 230 231 232\n",
      " 233 234 235 236 237 238 239 240 241 242 243 244 245 246 247 248 249 250\n",
      " 251 252 253 254 255 256 257 258 259 260 261 262 263 264 265 266 267 268\n",
      " 269 270 271 272 273 274 275 276 277 278 279 280 281 282 283 284 285 286\n",
      " 287 288 289 290 291 442 443 444 445 446 447 448 449 450 451 452 453 454\n",
      " 455 456 457 458 459 460 461 462 463 464 465 466 467 468 469 470 471 472\n",
      " 473 474 475 476 477 478 479 480 481 482 483 592 593 594 595 596 597 598\n",
      " 599 600 601 602 603 604 605 606 607 608 609 610 611 612 613 614 615 616\n",
      " 617 618 619 620 621 622 623 624 625 626 627 628 629 630 631 632 633 634\n",
      " 635 636 637]\n",
      "[120 121 122 123 124 125 126 127 128 129 130 131 132 133 134 135 136 137\n",
      " 138 139 140 141 142 143 144 145 146 147 148 149 150 151 152 153 154 155\n",
      " 156 157 158 159 160 292 293 294 295 296 297 298 299 300 301 302 303 304\n",
      " 305 306 307 308 309 310 311 312 313 314 315 316 317 318 319 320 321 322\n",
      " 323 324 325 326 327 328 329 330 331 332 333 334 335 336 337 338 339 340\n",
      " 484 485 486 487 488 489 490 491 492 493 494 495 496 497 498 499 500 501\n",
      " 502 503 504 505 506 507 508 509 510 511 512 513 514 515 516 517 518 519\n",
      " 520 521 522 523 524 525 638 639 640 641 642 643 644 645 646 647 648 649\n",
      " 650 651 652 653 654 655 656 657 658 659 660 661 662 663 664 665 666 667\n",
      " 668 669 670 671 672 673 674 675 676 677 678 679 680 681 682 683 684 685\n",
      " 686 687 688 689 690 691 692 693 694 695 696 697 698 699 700]\n",
      "[421 555  36 433 214 562 591  11 165 539 439  28  12 368  48 387 411 181\n",
      " 404  23 211 357 358 561 430 543  46 426 429  41 577  25 400   2  26 529\n",
      "  30  56  33  17 373 210 348  54 184 193 198 559 407 218]\n",
      "[247 244 268 112 231 230 260 597  81  78 447  77 283 631  82 470 238 634\n",
      "  76 448 458  90 106 477 252 273 234 115 598 627 465  66  83 270 467 114\n",
      " 608 241  93 221  92 225 282 250 233 594  80 261 243 249]\n",
      "[421 555  36 433 214 562 591  11 165 539 439  28  12 368  48 387 411 181\n",
      " 404  23 211 357 358 561 430 543  46 426 429  41 577  25 400   2  26 529\n",
      "  30  56  33  17 373 210 348  54 184 193 198 559 407 218 247 244 268 112\n",
      " 231 230 260 597  81  78 447  77 283 631  82 470 238 634  76 448 458  90\n",
      " 106 477 252 273 234 115 598 627 465  66  83 270 467 114 608 241  93 221\n",
      "  92 225 282 250 233 594  80 261 243 249 132 149 126 698 145 510 652 670\n",
      " 307 690 121 123 130 679 669 674 323 338 336 310 646 134 486 293 694 658\n",
      " 660 152 499 641 142 146 689 665 691 319 696 294 327 296 302 686 654 489\n",
      " 664 151 321 491 508 148]\n"
     ]
    }
   ],
   "source": [
    "### testing how concatenation works for forced class balance\n",
    "print(np.where(y_train == 0)[0])\n",
    "print(np.where(y_train == 1)[0])\n",
    "print(np.where(y_train == 2)[0])\n",
    "indsOne = np.random.choice(np.where(y_train == 0)[0],50,replace=False)\n",
    "indsTwo = np.random.choice(np.where(y_train == 1)[0],50,replace=False)\n",
    "indsThree = np.random.choice(np.where(y_train == 2)[0],50,replace=False)\n",
    "print(indsOne)\n",
    "print(indsTwo)\n",
    "inds = np.concatenate((indsOne, indsTwo, indsThree))\n",
    "print(inds)\n",
    "    "
   ]
  },
  {
   "cell_type": "code",
   "execution_count": null,
   "metadata": {},
   "outputs": [],
   "source": []
  }
 ],
 "metadata": {
  "kernelspec": {
   "display_name": "Python 3",
   "language": "python",
   "name": "python3"
  },
  "language_info": {
   "codemirror_mode": {
    "name": "ipython",
    "version": 3
   },
   "file_extension": ".py",
   "mimetype": "text/x-python",
   "name": "python",
   "nbconvert_exporter": "python",
   "pygments_lexer": "ipython3",
   "version": "3.7.1"
  }
 },
 "nbformat": 4,
 "nbformat_minor": 2
}
