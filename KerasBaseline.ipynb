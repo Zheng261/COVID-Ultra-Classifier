{
 "cells": [
  {
   "cell_type": "code",
   "execution_count": 10,
   "metadata": {},
   "outputs": [],
   "source": [
    "import os\n",
    "import numpy as np\n",
    "import cv2\n",
    "from sklearn.metrics import accuracy_score\n",
    "from sklearn.metrics import classification_report, confusion_matrix\n",
    "import matplotlib.pyplot as plt\n",
    "from scipy import stats\n",
    "import pickle\n",
    "import pandas as pd\n",
    "import seaborn as sn\n",
    "\n",
    "from sklearn.metrics import accuracy_score, balanced_accuracy_score, precision_score, recall_score\n",
    "\n",
    "DATA_DIR = 'covid19_pocus_ultrasound/data/cross_validation'\n",
    "MODEL_DIR = 'covid19_pocus_ultrasound/models'\n",
    "\n",
    "### Note: This is what the authors resized images to, we can play with this (or change it)\n",
    "### all depends on what resolution our pretrained model uses \n",
    "\n",
    "IMG_WIDTH = 224\n",
    "IMG_HEIGHT = 224\n",
    "\n",
    "\n",
    "### This is which \"fold\" of the cross validation. Rn I just set this as the first one so we do normal\n",
    "### 80/20 train/val split, but we can iterate over this for robust n-fold validation\n",
    "FOLD = 0"
   ]
  },
  {
   "cell_type": "code",
   "execution_count": 11,
   "metadata": {},
   "outputs": [],
   "source": [
    "### Data for getting images from https://github.com/jrosebr1/imutils/blob/master/imutils/paths.py\n",
    "image_types = (\".jpg\", \".jpeg\", \".png\", \".bmp\", \".tif\", \".tiff\")\n",
    "\n",
    "def list_images(basePath, contains=None):\n",
    "    # return the set of files that are valid\n",
    "    return list_files(basePath, validExts=image_types, contains=contains)\n",
    "\n",
    "\n",
    "def list_files(basePath, validExts=None, contains=None):\n",
    "    # loop over the directory structure\n",
    "    for (rootDir, dirNames, filenames) in os.walk(basePath):\n",
    "        # loop over the filenames in the current directory\n",
    "        for filename in filenames:\n",
    "            # if the contains string is not none and the filename does not contain\n",
    "            # the supplied string, then ignore the file\n",
    "            if contains is not None and filename.find(contains) == -1:\n",
    "                continue\n",
    "\n",
    "            # determine the file extension of the current file\n",
    "            ext = filename[filename.rfind(\".\"):].lower()\n",
    "\n",
    "            # check to see if the file is an image and should be processed\n",
    "            if validExts is None or ext.endswith(validExts):\n",
    "                # construct the path to the image and yield it\n",
    "                imagePath = os.path.join(rootDir, filename)\n",
    "                yield imagePath"
   ]
  },
  {
   "cell_type": "code",
   "execution_count": 12,
   "metadata": {},
   "outputs": [
    {
     "name": "stdout",
     "output_type": "stream",
     "text": [
      "Loading images...\n",
      "['covid19_pocus_ultrasound/data/cross_validation/split4/pneumonia/pneu-gred-6.gif_frame28.jpg', 'covid19_pocus_ultrasound/data/cross_validation/split4/pneumonia/pneu-gred-6.gif_frame14.jpg', 'covid19_pocus_ultrasound/data/cross_validation/split4/pneumonia/pneu-radiopaeda.mp4_frame210.jpg', 'covid19_pocus_ultrasound/data/cross_validation/split4/pneumonia/pneu-radiopaeda.mp4_frame170.jpg', 'covid19_pocus_ultrasound/data/cross_validation/split4/pneumonia/pneu-gred-6.gif_frame16.jpg']\n"
     ]
    }
   ],
   "source": [
    "print('Loading images...')\n",
    "imagePaths = list(list_images(DATA_DIR))\n",
    "\n",
    "train_labels, test_labels = [], []\n",
    "train_data, test_data = [], []\n",
    "\n",
    "print(imagePaths[0:5])"
   ]
  },
  {
   "cell_type": "code",
   "execution_count": 13,
   "metadata": {},
   "outputs": [
    {
     "name": "stdout",
     "output_type": "stream",
     "text": [
      "\n",
      "Number of training samples: 701 \n",
      "Number of validation samples: 210\n"
     ]
    }
   ],
   "source": [
    "# loop over folds\n",
    "for imagePath in imagePaths:\n",
    "\n",
    "    path_parts = imagePath.split(os.path.sep)\n",
    "    \n",
    "    # extract the split\n",
    "    train_test = path_parts[-3][-1]\n",
    "    \n",
    "    # extract the class label from the filename\n",
    "    label = path_parts[-2]\n",
    "    \n",
    "    # load the image, swap color channels, and resize it to be a fixed\n",
    "    # 224x224 pixels while ignoring aspect ratio\n",
    "    image = cv2.imread(imagePath)\n",
    "    image = cv2.cvtColor(image, cv2.COLOR_BGR2RGB)\n",
    "    image = cv2.resize(image, (IMG_WIDTH, IMG_HEIGHT))\n",
    "\n",
    "    # update the data and labels lists, respectively\n",
    "    if train_test == str(FOLD):\n",
    "        test_labels.append(label)\n",
    "        test_data.append(image)\n",
    "    else:\n",
    "        train_labels.append(label)\n",
    "        train_data.append(image)\n",
    "\n",
    "# Prepare data for model\n",
    "print(\n",
    "    f'\\nNumber of training samples: {len(train_labels)} \\n'\n",
    "    f'Number of validation samples: {len(test_labels)}'\n",
    ")\n"
   ]
  },
  {
   "cell_type": "code",
   "execution_count": 14,
   "metadata": {},
   "outputs": [
    {
     "name": "stdout",
     "output_type": "stream",
     "text": [
      "dict_keys(['pneumonia', 'regular', 'covid'])\n",
      "dict_values([219, 195, 287])\n"
     ]
    }
   ],
   "source": [
    "from collections import Counter\n",
    "\n",
    "### ok so these are all strings.. great\n",
    "print(Counter(train_labels).keys())\n",
    "print(Counter(train_labels).values())"
   ]
  },
  {
   "cell_type": "code",
   "execution_count": 15,
   "metadata": {},
   "outputs": [],
   "source": [
    "from sklearn import preprocessing\n",
    "labEncoder = preprocessing.LabelEncoder()\n",
    "\n",
    "labEncoder.fit(np.unique(train_labels))\n",
    "\n",
    "train_num_labels = labEncoder.transform(train_labels)\n",
    "test_num_labels = labEncoder.transform(test_labels)"
   ]
  },
  {
   "cell_type": "code",
   "execution_count": 16,
   "metadata": {},
   "outputs": [],
   "source": [
    "'''\n",
    "Sets up train and val set, using one hot encoding\n",
    "'''\n",
    "from keras.utils import to_categorical\n",
    "\n",
    "x_train = np.asarray(train_data)\n",
    "y_train = to_categorical(np.asarray(train_num_labels))\n",
    "\n",
    "x_val = np.asarray(test_data)\n",
    "y_val = to_categorical(np.asarray(test_num_labels))"
   ]
  },
  {
   "cell_type": "code",
   "execution_count": 17,
   "metadata": {},
   "outputs": [],
   "source": [
    "from keras.applications.vgg16 import VGG16\n",
    "import tensorflow as tf"
   ]
  },
  {
   "cell_type": "code",
   "execution_count": 31,
   "metadata": {},
   "outputs": [
    {
     "name": "stdout",
     "output_type": "stream",
     "text": [
      "WARNING:tensorflow:`input_shape` is undefined or non-square, or `rows` is not in [96, 128, 160, 192, 224]. Weights for input shape (224, 224) will be loaded as the default.\n",
      "Model: \"sequential_9\"\n",
      "_________________________________________________________________\n",
      "Layer (type)                 Output Shape              Param #   \n",
      "=================================================================\n",
      "mobilenetv2_1.00_224 (Model) (None, None, None, 1280)  2257984   \n",
      "_________________________________________________________________\n",
      "dropout_10 (Dropout)         (None, None, None, 1280)  0         \n",
      "_________________________________________________________________\n",
      "global_average_pooling2d_6 ( (None, 1280)              0         \n",
      "_________________________________________________________________\n",
      "batch_normalization (BatchNo (None, 1280)              5120      \n",
      "_________________________________________________________________\n",
      "dense_9 (Dense)              (None, 3)                 3843      \n",
      "=================================================================\n",
      "Total params: 2,266,947\n",
      "Trainable params: 2,230,275\n",
      "Non-trainable params: 36,672\n",
      "_________________________________________________________________\n"
     ]
    }
   ],
   "source": [
    "from keras.layers import GlobalAveragePooling2D, Dense\n",
    "from keras.optimizers import SGD\n",
    "\n",
    "base_model = tf.keras.applications.mobilenet_v2.MobileNetV2(include_top=False)\n",
    "average_layer = tf.keras.layers.GlobalAveragePooling2D()\n",
    "batch_norm = tf.keras.layers.BatchNormalization()\n",
    "prediction_layer = tf.keras.layers.Dense(3, activation='softmax')\n",
    "\n",
    "model = tf.keras.Sequential([\n",
    "    base_model,\n",
    "    tf.keras.layers.Dropout(0.5),\n",
    "    average_layer,\n",
    "    batch_norm,\n",
    "    prediction_layer\n",
    "])\n",
    "\n",
    "model.compile(optimizer='rmsprop', loss='categorical_crossentropy', metrics=['accuracy'])\n",
    "\n",
    "model.summary()"
   ]
  },
  {
   "cell_type": "code",
   "execution_count": 32,
   "metadata": {},
   "outputs": [
    {
     "name": "stdout",
     "output_type": "stream",
     "text": [
      "Epoch 1/15\n",
      "22/22 [==============================] - 75s 3s/step - loss: 0.8239 - accuracy: 0.8274 - val_loss: 6.4595 - val_accuracy: 0.5333\n",
      "Epoch 2/15\n",
      "22/22 [==============================] - 71s 3s/step - loss: 0.3210 - accuracy: 0.9372 - val_loss: 2.6715 - val_accuracy: 0.6095\n",
      "Epoch 3/15\n",
      "22/22 [==============================] - 72s 3s/step - loss: 0.1800 - accuracy: 0.9501 - val_loss: 7.2360 - val_accuracy: 0.5333\n",
      "Epoch 4/15\n",
      "22/22 [==============================] - 70s 3s/step - loss: 0.1828 - accuracy: 0.9444 - val_loss: 1.4314 - val_accuracy: 0.6286\n",
      "Epoch 5/15\n",
      "22/22 [==============================] - 76s 3s/step - loss: 0.2835 - accuracy: 0.9387 - val_loss: 19.6359 - val_accuracy: 0.2762\n",
      "Epoch 6/15\n",
      "22/22 [==============================] - 75s 3s/step - loss: 0.2491 - accuracy: 0.9387 - val_loss: 7.5958 - val_accuracy: 0.6000\n",
      "Epoch 7/15\n",
      "22/22 [==============================] - 69s 3s/step - loss: 0.1882 - accuracy: 0.9615 - val_loss: 15.4871 - val_accuracy: 0.3143\n",
      "Epoch 8/15\n",
      "22/22 [==============================] - 69s 3s/step - loss: 0.0896 - accuracy: 0.9743 - val_loss: 2.5449 - val_accuracy: 0.7429\n",
      "Epoch 9/15\n",
      "22/22 [==============================] - 67s 3s/step - loss: 0.1227 - accuracy: 0.9601 - val_loss: 6.8930 - val_accuracy: 0.5190\n",
      "Epoch 10/15\n",
      "22/22 [==============================] - 67s 3s/step - loss: 0.1436 - accuracy: 0.9601 - val_loss: 6.2548 - val_accuracy: 0.7238\n",
      "Epoch 11/15\n",
      "22/22 [==============================] - 68s 3s/step - loss: 0.1429 - accuracy: 0.9643 - val_loss: 2.4360 - val_accuracy: 0.7381\n",
      "Epoch 12/15\n",
      "22/22 [==============================] - 64s 3s/step - loss: 0.0918 - accuracy: 0.9772 - val_loss: 9.7513 - val_accuracy: 0.3238\n",
      "Epoch 13/15\n",
      "22/22 [==============================] - 67s 3s/step - loss: 0.0780 - accuracy: 0.9715 - val_loss: 3.3035 - val_accuracy: 0.5762\n",
      "Epoch 14/15\n",
      "22/22 [==============================] - 67s 3s/step - loss: 0.0664 - accuracy: 0.9757 - val_loss: 2.3822 - val_accuracy: 0.7952\n",
      "Epoch 15/15\n",
      "22/22 [==============================] - 66s 3s/step - loss: 0.0843 - accuracy: 0.9729 - val_loss: 1.7866 - val_accuracy: 0.7429\n"
     ]
    },
    {
     "data": {
      "text/plain": [
       "<tensorflow.python.keras.callbacks.History at 0x1843fe640>"
      ]
     },
     "execution_count": 32,
     "metadata": {},
     "output_type": "execute_result"
    }
   ],
   "source": [
    "model.fit(x=x_train, y=y_train, epochs = 15, validation_data=(x_val, y_val))"
   ]
  },
  {
   "cell_type": "code",
   "execution_count": 33,
   "metadata": {},
   "outputs": [
    {
     "name": "stdout",
     "output_type": "stream",
     "text": [
      "7/7 [==============================] - 3s 470ms/step - loss: 1.7866 - accuracy: 0.7429\n"
     ]
    },
    {
     "data": {
      "text/plain": [
       "[1.7866321802139282, 0.7428571581840515]"
      ]
     },
     "execution_count": 33,
     "metadata": {},
     "output_type": "execute_result"
    }
   ],
   "source": [
    "'''\n",
    "Evaluate on the val set, which is a bit sketch, but can be fixed when we get more data\n",
    "'''\n",
    "model.evaluate(x=x_val, y=y_val)\n"
   ]
  },
  {
   "cell_type": "code",
   "execution_count": 34,
   "metadata": {},
   "outputs": [],
   "source": [
    "y_pred = model.predict(x_val)"
   ]
  },
  {
   "cell_type": "code",
   "execution_count": 40,
   "metadata": {},
   "outputs": [
    {
     "name": "stdout",
     "output_type": "stream",
     "text": [
      "[[87  2 23]\n",
      " [20 38  0]\n",
      " [ 8  1 31]]\n"
     ]
    }
   ],
   "source": [
    "# confusion matrix\n",
    "from sklearn.metrics import confusion_matrix\n",
    "cm = confusion_matrix(test_num_labels, y_pred.argmax(axis=1))\n",
    "print(cm)"
   ]
  },
  {
   "cell_type": "code",
   "execution_count": null,
   "metadata": {},
   "outputs": [],
   "source": []
  }
 ],
 "metadata": {
  "kernelspec": {
   "display_name": "Python 3",
   "language": "python",
   "name": "python3"
  },
  "language_info": {
   "codemirror_mode": {
    "name": "ipython",
    "version": 3
   },
   "file_extension": ".py",
   "mimetype": "text/x-python",
   "name": "python",
   "nbconvert_exporter": "python",
   "pygments_lexer": "ipython3",
   "version": "3.8.3"
  }
 },
 "nbformat": 4,
 "nbformat_minor": 4
}
